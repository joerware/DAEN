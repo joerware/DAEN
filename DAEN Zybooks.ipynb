{
 "cells": [
  {
   "cell_type": "code",
   "execution_count": null,
   "metadata": {},
   "outputs": [
    {
     "name": "stdout",
     "output_type": "stream",
     "text": [
      "3\n",
      "3.00 3.18 3.37 3.57 3.78\n"
     ]
    }
   ],
   "source": [
    "initial_value = float(input())\n",
    "r = 2 ** (1/12)\n",
    "n = 1\n",
    "higher_key = initial_value * (r ** n)\n",
    "print('%0.2f' % (initial_value), end=' ')\n",
    "print('%0.2f' % (higher_key), end=' ')\n",
    "n = n + 1\n",
    "higher_key = initial_value * (r ** n)\n",
    "print('%0.2f' % (higher_key), end=' ')\n",
    "n = n + 1\n",
    "higher_key = initial_value * (r ** n)\n",
    "print('%0.2f' % (higher_key), end=' ')\n",
    "n = n + 1\n",
    "higher_key = initial_value * (r ** n)\n",
    "print('%0.2f' % (higher_key))\n",
    "\n",
    "user_int = int(input('Enter integer (32 - 126):\\n'))\n",
    "user_float = float(input('Enter float:\\n'))\n",
    "user_character = input('Enter character:\\n')\n",
    "user_string = input('Enter string:\\n')\n",
    "\n",
    "print(user_int , user_float , user_character , user_string)\n",
    "print(user_string , user_character , user_float , user_int)\n",
    "print(user_int , 'converted to a charcter is' , chr(user_int))\n",
    "\n",
    "\n"
   ]
  },
  {
   "cell_type": "code",
   "execution_count": null,
   "metadata": {},
   "outputs": [],
   "source": [
    "food_item = input('Enter food item name:\\n')\n",
    "item_price = float(input('Enter item price:\\n'))\n",
    "item_quantity = int(input('Enter item quantity:\\n'))\n",
    "total = 0\n",
    "item_total = item_price * item_quantity\n",
    "print()\n",
    "print('RECEIPT')\n",
    "print(item_quantity , food_item , '@ $%0.2f = $%0.2f' % ( item_price, item_total))\n",
    "total = total + item_total\n",
    "print('Total cost: $%0.2f\\n' % (total))\n",
    "print()\n",
    "sec_food_item = input('Enter second food item name:\\n')\n",
    "sec_item_price = float(input('Enter item price:\\n'))\n",
    "sec_item_quantity = int(input('Enter item quantity:\\n'))\n",
    "sec_item_total = sec_item_price * sec_item_quantity\n",
    "print()\n",
    "print('RECEIPT')\n",
    "print(item_quantity , food_item , '@ $%0.2f = $%0.2f' % ( item_price, item_total))\n",
    "print(sec_item_quantity , sec_food_item , '@ $%0.2f = $%0.2f' % ( sec_item_price, sec_item_total))\n",
    "total = total + sec_item_total\n",
    "print('Total cost: $%0.2f\\n' % (total))\n",
    "gratuity = .15 * total\n",
    "total_withtip = total + gratuity\n",
    "print('15%% gratuity: $%0.2f' % (gratuity))\n",
    "print('Total with tip: $%0.2f' % (total_withtip))"
   ]
  },
  {
   "cell_type": "code",
   "execution_count": null,
   "metadata": {},
   "outputs": [],
   "source": [
    "lemon_juice_cups = float(input('Enter amount of lemon juice (in cups):\\n'))\n",
    "water_cups = float(input('Enter amount of water (in cups):\\n'))\n",
    "agave_nectar_cups = float(input('Enter amount of agave nectar (in cups):\\n'))\n",
    "servings = float(input('How many servings does this make?\\n'))\n",
    "print()\n",
    "print('Lemonade ingredients - yields %0.2f servings' % servings)\n",
    "print('%0.2f cup(s) lemon juice' % lemon_juice_cups)\n",
    "print('%0.2f cup(s) water' % water_cups)\n",
    "print('%0.2f cup(s) agave nectar' % agave_nectar_cups)\n",
    "print()\n",
    "desired_servings = float(input('How many servings would you like to make?\\n'))\n",
    "print()\n",
    "adj_lemon_juice_cups = (desired_servings / servings) * lemon_juice_cups\n",
    "adj_water_cups = (desired_servings / servings) * water_cups \n",
    "adj_agave_nectar_cups =  (desired_servings / servings) * agave_nectar_cups\n",
    "adj_lemon_juice_gal = adj_lemon_juice_cups / 16\n",
    "adj_water_gal = adj_water_cups / 16 \n",
    "adj_agave_nectar_gal = adj_agave_nectar_cups / 16\n",
    "print('Lemonade ingredients - yields %0.2f servings' % desired_servings)\n",
    "print('%0.2f cup(s) lemon juice' % adj_lemon_juice_cups)\n",
    "print('%0.2f cup(s) water' % adj_water_cups)\n",
    "print('%0.2f cup(s) agave nectar' % adj_agave_nectar_cups)\n",
    "print()\n",
    "print('Lemonade ingredients - yields %0.2f servings' % desired_servings)\n",
    "print('%0.2f gallon(s) lemon juice' % adj_lemon_juice_gal)\n",
    "print('%0.2f gallon(s) water' % adj_water_gal)\n",
    "print('%0.2f gallon(s) agave nectar' % adj_agave_nectar_gal)\n"
   ]
  }
 ],
 "metadata": {
  "kernelspec": {
   "display_name": "Python 3",
   "language": "python",
   "name": "python3"
  },
  "language_info": {
   "codemirror_mode": {
    "name": "ipython",
    "version": 3
   },
   "file_extension": ".py",
   "mimetype": "text/x-python",
   "name": "python",
   "nbconvert_exporter": "python",
   "pygments_lexer": "ipython3",
   "version": "3.6.5"
  }
 },
 "nbformat": 4,
 "nbformat_minor": 2
}
